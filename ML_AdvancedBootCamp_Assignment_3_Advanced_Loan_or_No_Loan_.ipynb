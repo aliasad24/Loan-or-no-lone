{
 "cells": [
  {
   "cell_type": "markdown",
   "metadata": {
    "id": "eyE-yxbSZLav"
   },
   "source": [
    "# Content\r\n",
    "\r\n",
    "A loan application is used by borrowers to apply for a loan. Through the loan application, borrowers reveal key details about their finances to the lender. The loan application is crucial to determining whether the lender will grant the request for funds or credit.\r\n",
    "\r\n",
    "![Loan](https://dphi-courses.s3.ap-south-1.amazonaws.com/Datathons/loan.png)"
   ]
  },
  {
   "cell_type": "markdown",
   "metadata": {
    "id": "mrJELrLiZs2k"
   },
   "source": [
    "# Importing Labriries"
   ]
  },
  {
   "cell_type": "code",
   "execution_count": 9,
   "metadata": {
    "id": "qJYiAm1yZBeJ"
   },
   "outputs": [],
   "source": [
    "import pandas as pd\r\n",
    "import numpy as np\r\n",
    "import seaborn as sns\r\n",
    "import matplotlib.pyplot as plt\r\n",
    "%matplotlib inline\r\n",
    "import warnings\r\n",
    "warnings.filterwarnings(\"ignore\")"
   ]
  },
  {
   "cell_type": "code",
   "execution_count": 10,
   "metadata": {},
   "outputs": [],
   "source": [
    "import os"
   ]
  },
  {
   "cell_type": "markdown",
   "metadata": {
    "id": "__u1NjVJadUB"
   },
   "source": [
    "# Loading Data Train & Test\r\n"
   ]
  },
  {
   "cell_type": "code",
   "execution_count": 11,
   "metadata": {},
   "outputs": [
    {
     "data": {
      "text/plain": [
       "'C:\\\\Users\\\\SESA702824\\\\Downloads\\\\TeamAcademyTitorials\\\\LoanApplication_Prediction-main\\\\LoanApplication_Prediction-main\\\\Jupyter_Notebooks'"
      ]
     },
     "execution_count": 11,
     "metadata": {},
     "output_type": "execute_result"
    }
   ],
   "source": [
    "os.getcwd()"
   ]
  },
  {
   "cell_type": "code",
   "execution_count": 16,
   "metadata": {
    "colab": {
     "base_uri": "https://localhost:8080/",
     "height": 204
    },
    "id": "riZ8bSTeae4B",
    "outputId": "ce4940aa-2771-48bc-dccc-b56eb983562f"
   },
   "outputs": [
    {
     "data": {
      "text/html": [
       "<div>\n",
       "<style scoped>\n",
       "    .dataframe tbody tr th:only-of-type {\n",
       "        vertical-align: middle;\n",
       "    }\n",
       "\n",
       "    .dataframe tbody tr th {\n",
       "        vertical-align: top;\n",
       "    }\n",
       "\n",
       "    .dataframe thead th {\n",
       "        text-align: right;\n",
       "    }\n",
       "</style>\n",
       "<table border=\"1\" class=\"dataframe\">\n",
       "  <thead>\n",
       "    <tr style=\"text-align: right;\">\n",
       "      <th></th>\n",
       "      <th>Loan_ID</th>\n",
       "      <th>Gender</th>\n",
       "      <th>Married</th>\n",
       "      <th>Dependents</th>\n",
       "      <th>Education</th>\n",
       "      <th>Self_Employed</th>\n",
       "      <th>ApplicantIncome</th>\n",
       "      <th>CoapplicantIncome</th>\n",
       "      <th>LoanAmount</th>\n",
       "      <th>Loan_Amount_Term</th>\n",
       "      <th>Credit_History</th>\n",
       "      <th>Property_Area</th>\n",
       "      <th>Loan_Status</th>\n",
       "    </tr>\n",
       "  </thead>\n",
       "  <tbody>\n",
       "    <tr>\n",
       "      <th>0</th>\n",
       "      <td>LP001002</td>\n",
       "      <td>Male</td>\n",
       "      <td>No</td>\n",
       "      <td>0</td>\n",
       "      <td>Graduate</td>\n",
       "      <td>No</td>\n",
       "      <td>5849</td>\n",
       "      <td>0.0</td>\n",
       "      <td>NaN</td>\n",
       "      <td>360.0</td>\n",
       "      <td>1.0</td>\n",
       "      <td>Urban</td>\n",
       "      <td>Y</td>\n",
       "    </tr>\n",
       "    <tr>\n",
       "      <th>1</th>\n",
       "      <td>LP001003</td>\n",
       "      <td>Male</td>\n",
       "      <td>Yes</td>\n",
       "      <td>1</td>\n",
       "      <td>Graduate</td>\n",
       "      <td>No</td>\n",
       "      <td>4583</td>\n",
       "      <td>1508.0</td>\n",
       "      <td>128.0</td>\n",
       "      <td>360.0</td>\n",
       "      <td>1.0</td>\n",
       "      <td>Rural</td>\n",
       "      <td>N</td>\n",
       "    </tr>\n",
       "    <tr>\n",
       "      <th>2</th>\n",
       "      <td>LP001005</td>\n",
       "      <td>Male</td>\n",
       "      <td>Yes</td>\n",
       "      <td>0</td>\n",
       "      <td>Graduate</td>\n",
       "      <td>Yes</td>\n",
       "      <td>3000</td>\n",
       "      <td>0.0</td>\n",
       "      <td>66.0</td>\n",
       "      <td>360.0</td>\n",
       "      <td>1.0</td>\n",
       "      <td>Urban</td>\n",
       "      <td>Y</td>\n",
       "    </tr>\n",
       "    <tr>\n",
       "      <th>3</th>\n",
       "      <td>LP001006</td>\n",
       "      <td>Male</td>\n",
       "      <td>Yes</td>\n",
       "      <td>0</td>\n",
       "      <td>Not Graduate</td>\n",
       "      <td>No</td>\n",
       "      <td>2583</td>\n",
       "      <td>2358.0</td>\n",
       "      <td>120.0</td>\n",
       "      <td>360.0</td>\n",
       "      <td>1.0</td>\n",
       "      <td>Urban</td>\n",
       "      <td>Y</td>\n",
       "    </tr>\n",
       "    <tr>\n",
       "      <th>4</th>\n",
       "      <td>LP001008</td>\n",
       "      <td>Male</td>\n",
       "      <td>No</td>\n",
       "      <td>0</td>\n",
       "      <td>Graduate</td>\n",
       "      <td>No</td>\n",
       "      <td>6000</td>\n",
       "      <td>0.0</td>\n",
       "      <td>141.0</td>\n",
       "      <td>360.0</td>\n",
       "      <td>1.0</td>\n",
       "      <td>Urban</td>\n",
       "      <td>Y</td>\n",
       "    </tr>\n",
       "  </tbody>\n",
       "</table>\n",
       "</div>"
      ],
      "text/plain": [
       "    Loan_ID Gender Married Dependents     Education Self_Employed  \\\n",
       "0  LP001002   Male      No          0      Graduate            No   \n",
       "1  LP001003   Male     Yes          1      Graduate            No   \n",
       "2  LP001005   Male     Yes          0      Graduate           Yes   \n",
       "3  LP001006   Male     Yes          0  Not Graduate            No   \n",
       "4  LP001008   Male      No          0      Graduate            No   \n",
       "\n",
       "   ApplicantIncome  CoapplicantIncome  LoanAmount  Loan_Amount_Term  \\\n",
       "0             5849                0.0         NaN             360.0   \n",
       "1             4583             1508.0       128.0             360.0   \n",
       "2             3000                0.0        66.0             360.0   \n",
       "3             2583             2358.0       120.0             360.0   \n",
       "4             6000                0.0       141.0             360.0   \n",
       "\n",
       "   Credit_History Property_Area Loan_Status  \n",
       "0             1.0         Urban           Y  \n",
       "1             1.0         Rural           N  \n",
       "2             1.0         Urban           Y  \n",
       "3             1.0         Urban           Y  \n",
       "4             1.0         Urban           Y  "
      ]
     },
     "execution_count": 16,
     "metadata": {},
     "output_type": "execute_result"
    }
   ],
   "source": [
    "loan_data  = pd.read_csv(\"loan_train.csv\",index_col=False)\n",
    "\r\n",
    "loan_data.head()"
   ]
  },
  {
   "cell_type": "code",
   "execution_count": null,
   "metadata": {
    "colab": {
     "base_uri": "https://localhost:8080/",
     "height": 204
    },
    "id": "oz-K7MvFbDaM",
    "outputId": "7fbae3e8-7ef6-4fdf-b690-f4cfc65d9fce"
   },
   "outputs": [],
   "source": [
    "test_data = pd.read_csv('loan_test.csv')\r\n",
    "test_data.head()"
   ]
  },
  {
   "cell_type": "code",
   "execution_count": null,
   "metadata": {
    "colab": {
     "base_uri": "https://localhost:8080/"
    },
    "id": "R0NRUCSYbvkj",
    "outputId": "1ebdcb9b-37c5-4219-8bb4-ac96ae6976fe"
   },
   "outputs": [],
   "source": [
    "loan_data.shape\r\n"
   ]
  },
  {
   "cell_type": "markdown",
   "metadata": {
    "id": "V4MXHwMJcN25"
   },
   "source": [
    "We have 491 rows and 13 columns in train dataset."
   ]
  },
  {
   "cell_type": "code",
   "execution_count": null,
   "metadata": {
    "colab": {
     "base_uri": "https://localhost:8080/"
    },
    "id": "X--lqh-Fb-XX",
    "outputId": "583a792b-c1e2-4b67-ce1e-d0d66989361e"
   },
   "outputs": [],
   "source": [
    "test_data.shape\r\n"
   ]
  },
  {
   "cell_type": "markdown",
   "metadata": {
    "id": "djOAbCBMcTIh"
   },
   "source": [
    "We have 123 rows and 12 columns in test dataset."
   ]
  },
  {
   "cell_type": "code",
   "execution_count": null,
   "metadata": {
    "colab": {
     "base_uri": "https://localhost:8080/"
    },
    "id": "F2N6OgIjcBO0",
    "outputId": "4749b5ca-4e43-42cd-f8f8-079327556c77"
   },
   "outputs": [],
   "source": [
    "loan_data['Loan_Status'].value_counts()"
   ]
  },
  {
   "cell_type": "code",
   "execution_count": null,
   "metadata": {
    "colab": {
     "base_uri": "https://localhost:8080/"
    },
    "id": "aisuEA47cEnz",
    "outputId": "1d2d5333-93e1-4ad4-fb65-4be4583cd02a"
   },
   "outputs": [],
   "source": [
    "loan_data['Loan_Status'].value_counts(normalize=True)"
   ]
  },
  {
   "cell_type": "code",
   "execution_count": null,
   "metadata": {
    "colab": {
     "base_uri": "https://localhost:8080/",
     "height": 279
    },
    "id": "tlwaUuXjcKHi",
    "outputId": "8a6576c9-55e3-4dac-8774-89a1cfc7b632"
   },
   "outputs": [],
   "source": [
    "loan_data['Loan_Status'].value_counts().plot.bar()"
   ]
  },
  {
   "cell_type": "markdown",
   "metadata": {
    "id": "gmjKHoYTclo2"
   },
   "source": [
    "The loan of 343(around 69.85%) people out of 491 were approved."
   ]
  },
  {
   "cell_type": "markdown",
   "metadata": {
    "id": "6FzA7DcedNPN"
   },
   "source": [
    "Now, let's visualize each variable separately. Different types of variables are Categorical, ordinal and numerical.\r\n",
    "\r\n",
    "* Categorical features: These features have categories (Gender, Married, Self_Employed, Credit_History, Loan_Status)\r\n",
    "* Ordinal features: Variables in categorical features having some order involved (Dependents, Education, Property_Area)\r\n",
    "* Numerical features: These features have numerical values (ApplicantIncome, CoapplicantIncome, LoanAmount,Loan_Amount_Term)"
   ]
  },
  {
   "cell_type": "markdown",
   "metadata": {
    "id": "2KgDFQaFdU1T"
   },
   "source": [
    "## Independent Variable (Categorical)"
   ]
  },
  {
   "cell_type": "code",
   "execution_count": null,
   "metadata": {
    "colab": {
     "base_uri": "https://localhost:8080/",
     "height": 1000
    },
    "id": "f13aaafGcib7",
    "outputId": "7fb3f30b-e8cd-4dc7-f9f3-a5f2c2e566b3"
   },
   "outputs": [],
   "source": [
    "loan_data['Gender'].value_counts(normalize=True).plot.bar(title='Gender')\r\n",
    "plt.show()\r\n",
    "loan_data['Married'].value_counts(normalize=True).plot.bar(title='Married')\r\n",
    "plt.show()\r\n",
    "loan_data['Self_Employed'].value_counts(normalize=True).plot.bar(title='Self_Employed')\r\n",
    "plt.show()\r\n",
    "loan_data['Credit_History'].value_counts(normalize=True).plot.bar(title='Credit_History')\r\n",
    "plt.show()\r\n"
   ]
  },
  {
   "cell_type": "markdown",
   "metadata": {
    "id": "ZIB69cs0doLN"
   },
   "source": [
    "It can be inferred from the above bar plots that:\r\n",
    "\r\n",
    "* 80% applicants in the dataset are male.\r\n",
    "* Around 65% of the applicants in the dataset are married.\r\n",
    "* Around 15% applicants in the dataset are self employed.\r\n",
    "* Around 85% applicants have repaid their doubts."
   ]
  },
  {
   "cell_type": "markdown",
   "metadata": {
    "id": "dEKRlozPdzyQ"
   },
   "source": [
    "## Independent Variable (Ordinal)"
   ]
  },
  {
   "cell_type": "code",
   "execution_count": null,
   "metadata": {
    "colab": {
     "base_uri": "https://localhost:8080/",
     "height": 916
    },
    "id": "-5x0MZIcdETe",
    "outputId": "9a787565-cb06-4660-e965-ea6144af3504"
   },
   "outputs": [],
   "source": [
    "loan_data['Dependents'].value_counts(normalize=True).plot.bar( title='Dependents')\r\n",
    "plt.show()\r\n",
    "loan_data['Education'].value_counts(normalize=True).plot.bar(title='Education')\r\n",
    "plt.show()\r\n",
    "loan_data['Property_Area'].value_counts(normalize=True).plot.bar(title='Property_Area')\r\n",
    "plt.show()"
   ]
  },
  {
   "cell_type": "markdown",
   "metadata": {
    "id": "a80gApFweNRO"
   },
   "source": [
    "Following inferences can be made from the above bar plots:\r\n",
    "\r\n",
    "* Most of the applicants don't have any dependents.\r\n",
    "* Around 80% of the applicants are Graduate.\r\n",
    "* Most of the applicants are from Semiurban area."
   ]
  },
  {
   "cell_type": "markdown",
   "metadata": {
    "id": "8OnK3nxfeTkK"
   },
   "source": [
    "## Independent Variable (Numerical)\r\n",
    "\r\n",
    "Till now we have seen the categorical and ordinal variables and now lets visualize the numerical variables. Lets look at the distribution of Applicant income first."
   ]
  },
  {
   "cell_type": "code",
   "execution_count": null,
   "metadata": {
    "colab": {
     "base_uri": "https://localhost:8080/",
     "height": 582
    },
    "id": "4y_gPMoWd_db",
    "outputId": "71099761-a52c-4798-8dd5-bf7a4be195aa"
   },
   "outputs": [],
   "source": [
    "sns.distplot(loan_data['ApplicantIncome'])\r\n",
    "plt.show()\r\n",
    "loan_data['ApplicantIncome'].plot.box(figsize=(16,5))\r\n",
    "plt.show()"
   ]
  },
  {
   "cell_type": "markdown",
   "metadata": {
    "id": "WCSsd50QeclX"
   },
   "source": [
    "It can be inferred that most of the data in the distribution of applicant income is towards left which means it is not normally distributed. We will try to make it normal in later sections as algorithms works better if the data is normally distributed.\r\n",
    "\r\n",
    "The boxplot confirms the presence of a lot of outliers/extreme values. This can be attributed to the income disparity in the society. Part of this can be driven by the fact that we are looking at people with different eduation levels. Let us segregate them by Education."
   ]
  },
  {
   "cell_type": "code",
   "execution_count": null,
   "metadata": {
    "colab": {
     "base_uri": "https://localhost:8080/",
     "height": 311
    },
    "id": "k4i9t6t9eZfq",
    "outputId": "0fc08c21-768f-498c-d589-a468bf170380"
   },
   "outputs": [],
   "source": [
    "loan_data.boxplot(column='ApplicantIncome', by = 'Education') \r\n",
    "plt.suptitle(\"\")"
   ]
  },
  {
   "cell_type": "markdown",
   "metadata": {
    "id": "R0SgTc56eoA0"
   },
   "source": [
    "We can see that there are a higher number of graduates with very high incomes, which are appearing to be outliers.\r\n",
    "\r\n",
    "Let's look at the Coapplicant income distribution."
   ]
  },
  {
   "cell_type": "code",
   "execution_count": null,
   "metadata": {
    "colab": {
     "base_uri": "https://localhost:8080/",
     "height": 582
    },
    "id": "Y4w_g8UOejgN",
    "outputId": "cf9cf189-21c6-4f55-ec9c-83a5bfd8fe95"
   },
   "outputs": [],
   "source": [
    "sns.distplot(loan_data['CoapplicantIncome'])\r\n",
    "plt.show()\r\n",
    "loan_data['CoapplicantIncome'].plot.box(figsize=(16,5))\r\n",
    "plt.show()\r\n"
   ]
  },
  {
   "cell_type": "markdown",
   "metadata": {
    "id": "bqNoR42gevtY"
   },
   "source": [
    "We see a similar distribution as that of the applicant's income. The majority of co-applicants income ranges from 0 to 5000. We also see a lot of outliers in the applicant's income and it is not normally distributed."
   ]
  },
  {
   "cell_type": "code",
   "execution_count": null,
   "metadata": {
    "colab": {
     "base_uri": "https://localhost:8080/",
     "height": 582
    },
    "id": "xPxStOzkestj",
    "outputId": "7f59fa3f-10e4-44b2-aae4-1e832878f8b3"
   },
   "outputs": [],
   "source": [
    "loan_data.notna()\r\n",
    "# train.dropna()\r\n",
    "# print(train[train['LoanAmount'].isnull()])\r\n",
    "# train['LoanAmount'] = pd.to_numeric(train['LoanAmount'], errors='coerce')\r\n",
    "# train = train.dropna(subset=['LoanAmount'])\r\n",
    "# train['LoanAmount'] = train['LoanAmount'].astype(int)\r\n",
    "sns.distplot(loan_data['LoanAmount'])\r\n",
    "plt.show()\r\n",
    "loan_data['LoanAmount'].plot.box(figsize=(16,5))\r\n",
    "plt.show()"
   ]
  },
  {
   "cell_type": "markdown",
   "metadata": {
    "id": "oQ-xC7S5e5CP"
   },
   "source": [
    "We see a lot of outliers in this variable and the distribution is fairly normal. We will treat the outliers in later sections."
   ]
  },
  {
   "cell_type": "markdown",
   "metadata": {
    "id": "VIaBKol2e7ts"
   },
   "source": [
    "## Bivariate Analysis\r\n",
    "Let's recall some of the hypotheses that we generated earlier:\r\n",
    "\r\n",
    "* Applicants with high incomes should have more chances of loan approval.\r\n",
    "* Applicants who have repaid their previous debts should have higher chances of loan approval.\r\n",
    "* Loan approval should also depend on the loan amount. If the loan amount is less, the chances of loan approval should be high.\r\n",
    "* Lesser the amount to be paid monthly to repay the loan, the higher the chances of loan approval.\r\n",
    "Let's try to test the above-mentioned hypotheses using bivariate analysis\r\n",
    "\r\n",
    "After looking at every variable individually in univariate analysis, we will now explore them again with respect to the target variable."
   ]
  },
  {
   "cell_type": "markdown",
   "metadata": {
    "id": "LArx9yHafZDs"
   },
   "source": [
    "### Categorical Independent Variable vs Target Variable\r\n",
    "\r\n",
    "First of all, we will find the relation between the target variable and categorical independent variables. Let us look at the stacked bar plot now which will give us the proportion of approved and unapproved loans."
   ]
  },
  {
   "cell_type": "code",
   "execution_count": null,
   "metadata": {
    "colab": {
     "base_uri": "https://localhost:8080/",
     "height": 305
    },
    "id": "hAWQ5KbYe19-",
    "outputId": "8e122a29-1200-4ee1-b6f4-a8295f4bd475"
   },
   "outputs": [],
   "source": [
    "Gender=pd.crosstab(loan_data['Gender'],loan_data['Loan_Status'])\r\n",
    "Gender.div(Gender.sum(1).astype(float), axis=0).plot(kind=\"bar\",stacked=True,figsize=(4,4))\r\n",
    "plt.show()"
   ]
  },
  {
   "cell_type": "markdown",
   "metadata": {
    "id": "iIh0CQYifkwq"
   },
   "source": [
    "It can be inferred that the proportion of male and female applicants is more or less the same for both approved and unapproved loans.\r\n",
    "\r\n",
    "Now let us visualize the remaining categorical variables vs target variable."
   ]
  },
  {
   "cell_type": "code",
   "execution_count": null,
   "metadata": {
    "colab": {
     "base_uri": "https://localhost:8080/",
     "height": 1000
    },
    "id": "wQGVG8xcfhhQ",
    "outputId": "0c14a9e3-5065-4b80-fa88-488bbc60309d"
   },
   "outputs": [],
   "source": [
    "Married=pd.crosstab(loan_data['Married'],loan_data['Loan_Status'])\r\n",
    "Dependents=pd.crosstab(loan_data['Dependents'],loan_data['Loan_Status'])\r\n",
    "Education=pd.crosstab(loan_data['Education'],loan_data['Loan_Status'])\r\n",
    "Self_Employed=pd.crosstab(loan_data['Self_Employed'],loan_data['Loan_Status'])\r\n",
    "Married.div(Married.sum(1).astype(float), axis=0).plot(kind=\"bar\",stacked=True,figsize=(4,4))\r\n",
    "plt.show()\r\n",
    "Dependents.div(Dependents.sum(1).astype(float), axis=0).plot(kind=\"bar\",stacked=True,figsize=(4,4))\r\n",
    "plt.show()\r\n",
    "Education.div(Education.sum(1).astype(float), axis=0).plot(kind=\"bar\",stacked=True,figsize=(4,4))\r\n",
    "plt.show()\r\n",
    "Self_Employed.div(Self_Employed.sum(1).astype(float), axis=0).plot(kind=\"bar\",stacked=True,figsize=(4,4))\r\n",
    "plt.show()"
   ]
  },
  {
   "cell_type": "markdown",
   "metadata": {
    "id": "UZTiD6_Xfwtk"
   },
   "source": [
    "* The proportion of married appliants is higher for approved loans.\r\n",
    "* Distribution of applicants with 1 or 3+ dependents is similar across both the categories of Loan_Status.\r\n",
    "* There is nothing significant we can infer from Self_Employed vs Loan_Status plot.\r\n",
    "\r\n",
    "\r\n",
    "Now we will look at the relationship between remaining categorical independent variables and Loan_Status."
   ]
  },
  {
   "cell_type": "code",
   "execution_count": null,
   "metadata": {
    "colab": {
     "base_uri": "https://localhost:8080/",
     "height": 593
    },
    "id": "sJornyKafuEH",
    "outputId": "bccbf7bd-0874-4934-c857-60430ee930b1"
   },
   "outputs": [],
   "source": [
    "Credit_History=pd.crosstab(loan_data['Credit_History'],loan_data['Loan_Status'])\r\n",
    "Property_Area=pd.crosstab(loan_data['Property_Area'],loan_data['Loan_Status'])\r\n",
    "Credit_History.div(Credit_History.sum(1).astype(float), axis=0).plot(kind=\"bar\",stacked=True,figsize=(4,4))\r\n",
    "plt.show()\r\n",
    "Property_Area.div(Property_Area.sum(1).astype(float), axis=0).plot(kind=\"bar\",stacked=True)\r\n",
    "plt.show()"
   ]
  },
  {
   "cell_type": "markdown",
   "metadata": {
    "id": "wpqBjEBugA-f"
   },
   "source": [
    "* It seems people with a credit history as 1 are more likely to get their loans approved.*\r\n",
    "* The proportion of loans getting approved in the semi-urban area is higher as compared to that in rural or urban areas.\r\n",
    "\r\n",
    "Now let's visualize numerical independent variables with respect to the target variable."
   ]
  },
  {
   "cell_type": "markdown",
   "metadata": {
    "id": "2qclEGkbgEik"
   },
   "source": [
    "### Numerical Independent Variable vs Target Variable\r\n",
    "\r\n",
    "We will try to find the mean income of people for which the loan has been approved vs the mean income of people for which the loan has not been approved."
   ]
  },
  {
   "cell_type": "code",
   "execution_count": null,
   "metadata": {
    "colab": {
     "base_uri": "https://localhost:8080/",
     "height": 294
    },
    "id": "jt5p1yt_f-aa",
    "outputId": "6f21811d-ed57-4408-e74d-8837fef37a13"
   },
   "outputs": [],
   "source": [
    "loan_data.groupby('Loan_Status')['ApplicantIncome'].mean().plot.bar()"
   ]
  },
  {
   "cell_type": "markdown",
   "metadata": {
    "id": "Kic2ss43gNUg"
   },
   "source": [
    "Here the y-axis represents the mean applicant income. We don't see any change in the mean income. So, let's make bins for the applicant income variable based on the values in it and analyze the corresponding loan status for each bin."
   ]
  },
  {
   "cell_type": "code",
   "execution_count": null,
   "metadata": {
    "colab": {
     "base_uri": "https://localhost:8080/",
     "height": 317
    },
    "id": "LlMmbw6RgKta",
    "outputId": "1eb227de-ff51-424d-832c-4a9201feff77"
   },
   "outputs": [],
   "source": [
    "bins=[0,2500,4000,6000,81000]\r\n",
    "group=['Low','Average','High','Very high']\r\n",
    "loan_data['Income_bin']=pd.cut(loan_data['ApplicantIncome'],bins,labels=group)\r\n",
    "Income_bin=pd.crosstab(loan_data['Income_bin'],loan_data['Loan_Status'])\r\n",
    "Income_bin.div(Income_bin.sum(1).astype(float), axis=0).plot(kind=\"bar\",stacked=True)\r\n",
    "plt.xlabel('ApplicantIncome')\r\n",
    "P=plt.ylabel('Percentage')"
   ]
  },
  {
   "cell_type": "markdown",
   "metadata": {
    "id": "ljfvvwIygeXg"
   },
   "source": [
    "It can be inferred that Applicant income does not affect the chances of loan approval which contradicts our hypothesis in which we assumed that if the applicant income is high the chances of loan approval will also be high.\r\n",
    "\r\n",
    "We will analyze the coapplicant income and loan amount variable in similar manner."
   ]
  },
  {
   "cell_type": "code",
   "execution_count": null,
   "metadata": {
    "colab": {
     "base_uri": "https://localhost:8080/",
     "height": 310
    },
    "id": "pWTTqhrcgWRH",
    "outputId": "16ac1259-945f-48f2-f9a8-83ac906a9415"
   },
   "outputs": [],
   "source": [
    "bins=[0,1000,3000,42000]\r\n",
    "group=['Low','Average','High']\r\n",
    "loan_data['Coapplicant_Income_bin']=pd.cut(loan_data['CoapplicantIncome'],bins,labels=group)\r\n",
    "Coapplicant_Income_bin=pd.crosstab(loan_data['Coapplicant_Income_bin'],loan_data['Loan_Status'])\r\n",
    "Coapplicant_Income_bin.div(Coapplicant_Income_bin.sum(1).astype(float), axis=0).plot(kind=\"bar\",stacked=True)\r\n",
    "plt.xlabel('CoapplicantIncome')\r\n",
    "P=plt.ylabel('Percentage')"
   ]
  },
  {
   "cell_type": "markdown",
   "metadata": {
    "id": "iAmXeaXcgq4S"
   },
   "source": [
    "It shows that if co-applicants income is less the chances of loan approval are high. But this does not look right. The possible reason behind this may be that most of the applicants don't have any co-applicant so the co-applicant income for such applicants is 0 and hence the loan approval is not dependent on it. So, we can make a new variable in which we will combine the applicant's and co-applicants income to visualize the combined effect of income on loan approval.\r\n",
    "\r\n",
    "Let us combine the Applicant Income and Coapplicant Income and see the combined effect of Total Income on the Loan_Status."
   ]
  },
  {
   "cell_type": "code",
   "execution_count": null,
   "metadata": {
    "colab": {
     "base_uri": "https://localhost:8080/",
     "height": 318
    },
    "id": "1wUYa9LHgoYE",
    "outputId": "c91c1304-f8ba-4e47-9ed4-5098e1e890b2"
   },
   "outputs": [],
   "source": [
    "loan_data['Total_Income']=loan_data['ApplicantIncome']+loan_data['CoapplicantIncome']\r\n",
    "bins=[0,2500,4000,6000,81000]\r\n",
    "group=['Low','Average','High','Very high']\r\n",
    "loan_data['Total_Income_bin']=pd.cut(loan_data['Total_Income'],bins,labels=group)\r\n",
    "Total_Income_bin=pd.crosstab(loan_data['Total_Income_bin'],loan_data['Loan_Status'])\r\n",
    "Total_Income_bin.div(Total_Income_bin.sum(1).astype(float), axis=0).plot(kind=\"bar\",stacked=True)\r\n",
    "plt.xlabel('Total_Income')\r\n",
    "P=plt.ylabel('Percentage')"
   ]
  },
  {
   "cell_type": "markdown",
   "metadata": {
    "id": "jGBqPRkWg1kg"
   },
   "source": [
    "We can see that Proportion of loans getting approved for applicants having low Total_Income is very less compared to that of applicants with Average, High & Very High Income.\r\n",
    "\r\n",
    "Let's visualize the Loan Amount variable."
   ]
  },
  {
   "cell_type": "code",
   "execution_count": null,
   "metadata": {
    "colab": {
     "base_uri": "https://localhost:8080/",
     "height": 310
    },
    "id": "E9_4ARsQgwCa",
    "outputId": "b583e906-cf3a-476f-d12e-ec170207e31c"
   },
   "outputs": [],
   "source": [
    "bins=[0,100,200,700]\r\n",
    "group=['Low','Average','High']\r\n",
    "loan_data['LoanAmount_bin']=pd.cut(loan_data['LoanAmount'],bins,labels=group)\r\n",
    "LoanAmount_bin=pd.crosstab(loan_data['LoanAmount_bin'],loan_data['Loan_Status'])\r\n",
    "LoanAmount_bin.div(LoanAmount_bin.sum(1).astype(float), axis=0).plot(kind=\"bar\",stacked=True)\r\n",
    "plt.xlabel('LoanAmount')\r\n",
    "P=plt.ylabel('Percentage')"
   ]
  },
  {
   "cell_type": "markdown",
   "metadata": {
    "id": "vh6TH2Wpg-Md"
   },
   "source": [
    "It can be seen that the proportion of approved loans is higher for Low and Average Loan Amount as compared to that of High Loan Amount which supports our hypothesis in which we considered that the chances of loan approval will be high when the loan amount is less.\r\n",
    "\r\n",
    "Let’s drop the bins which we created for the exploration part. We will change the 3+ in dependents variable to 3 to make it a numerical variable.We will also convert the target variable’s categories into 0 and 1 so that we can find its correlation with numerical variables. One more reason to do so is few models like logistic regression takes only numeric values as input. We will replace N with 0 and Y with 1."
   ]
  },
  {
   "cell_type": "code",
   "execution_count": null,
   "metadata": {
    "id": "BAfRwvhOg63R"
   },
   "outputs": [],
   "source": [
    "# print(train.dtypes)\r\n",
    "loan_data=loan_data.drop(['Income_bin', 'Coapplicant_Income_bin', 'LoanAmount_bin', 'Total_Income_bin', 'Total_Income'], axis=1)\r\n",
    "loan_data['Dependents'].replace('3+', 3,inplace=True)\r\n",
    "test_data['Dependents'].replace('3+', 3,inplace=True)\r\n"
   ]
  },
  {
   "cell_type": "markdown",
   "metadata": {
    "id": "sY_FBzcWhR1e"
   },
   "source": [
    "Now let's look at the correlation between all the numerical variables. We will use the heat map to visualize the correlation. Heatmaps visualize data through variations in coloring. The variables with darker color means their correlation is more."
   ]
  },
  {
   "cell_type": "code",
   "execution_count": null,
   "metadata": {
    "colab": {
     "base_uri": "https://localhost:8080/",
     "height": 482
    },
    "id": "t4HVuXAZhPrT",
    "outputId": "7aaffba4-2c7e-4f72-ea01-2d1763212494"
   },
   "outputs": [],
   "source": [
    "matrix = loan_data.corr()\r\n",
    "f, ax = plt.subplots(figsize=(9,6))\r\n",
    "sns.heatmap(matrix,vmax=.8,square=True,cmap=\"BuPu\", annot = True)\r\n"
   ]
  },
  {
   "cell_type": "markdown",
   "metadata": {
    "id": "tvetZrD7huL_"
   },
   "source": [
    "We see that the most correlate variables are (ApplicantIncome - LoanAmount) and (Credit_History - Loan_Status). \r\n",
    "\r\n",
    "(LoanAmount is also correlated with CoapplicantIncome)."
   ]
  },
  {
   "cell_type": "markdown",
   "metadata": {
    "id": "-lAgTNcHiA1k"
   },
   "source": [
    "## Missing value imputation\r\n",
    "\r\n",
    "Let's list out feature-wise count of missing values."
   ]
  },
  {
   "cell_type": "code",
   "execution_count": null,
   "metadata": {
    "colab": {
     "base_uri": "https://localhost:8080/"
    },
    "id": "SSNzRgpmhXVA",
    "outputId": "2ac60014-d02f-47b6-cf27-bf8990d9e47e"
   },
   "outputs": [],
   "source": [
    "loan_data.isnull().sum()"
   ]
  },
  {
   "cell_type": "markdown",
   "metadata": {
    "id": "7Xddxx2OiKOw"
   },
   "source": [
    "There are missing values in Gender, Married, Dependents, Self_Employed, LoanAmount, Loan_Amount_Term and Credit_History features.\r\n",
    "\r\n",
    "We will treat the missing values in all the features one by one.\r\n",
    "\r\n",
    "We can consider these methods to fill the missing values:\r\n",
    "\r\n",
    "  * For numerical variables: imputation using mean or median\r\n",
    "  * For categorical variables: imputation using mode\r\n",
    "  \r\n",
    "There are very less missing values in Gender, Married, Dependents, Credit_History and Self_Employed features so we can fill them using the mode of the features."
   ]
  },
  {
   "cell_type": "code",
   "execution_count": null,
   "metadata": {
    "id": "a5vkTm9DiGkB"
   },
   "outputs": [],
   "source": [
    "loan_data['Gender'].fillna(loan_data['Gender'].mode()[0], inplace=True)\r\n",
    "loan_data['Married'].fillna(loan_data['Married'].mode()[0], inplace=True)\r\n",
    "loan_data['Dependents'].fillna(loan_data['Dependents'].mode()[0], inplace=True)\r\n",
    "loan_data['Self_Employed'].fillna(loan_data['Self_Employed'].mode()[0], inplace=True)\r\n",
    "loan_data['Credit_History'].fillna(loan_data['Credit_History'].mode()[0], inplace=True)"
   ]
  },
  {
   "cell_type": "markdown",
   "metadata": {
    "id": "UOYvUrfNiiY8"
   },
   "source": [
    "Now let’s try to find a way to fill the missing values in Loan_Amount_Term. We will look at the value count of the Loan amount term variable"
   ]
  },
  {
   "cell_type": "code",
   "execution_count": null,
   "metadata": {
    "colab": {
     "base_uri": "https://localhost:8080/"
    },
    "id": "lfjLhkGlif6d",
    "outputId": "2d5f311b-cdc0-4daf-eb64-bcffbbf2563c"
   },
   "outputs": [],
   "source": [
    "loan_data['Loan_Amount_Term'].value_counts()\r\n"
   ]
  },
  {
   "cell_type": "markdown",
   "metadata": {
    "id": "YPiYSeOWiqLa"
   },
   "source": [
    "It can be seen that in loan amount term variable, the value of 360 is repeating the most. So we will replace the missing values in this variable using the mode of this variable."
   ]
  },
  {
   "cell_type": "code",
   "execution_count": null,
   "metadata": {
    "id": "Sx6SdGmAimsJ"
   },
   "outputs": [],
   "source": [
    "loan_data['Loan_Amount_Term'].fillna(loan_data['Loan_Amount_Term'].mode()[0], inplace=True)"
   ]
  },
  {
   "cell_type": "markdown",
   "metadata": {
    "id": "qZohh9_-i1rQ"
   },
   "source": [
    "Now we will see the LoanAmount variable. As it is a numerical variable, we can use mean or median to impute the missing values. We will use the median to fill the null values as earlier we saw that the loan amount has outliers so the mean will not be the proper approach as it is highly affected by the presence of outliers."
   ]
  },
  {
   "cell_type": "code",
   "execution_count": null,
   "metadata": {
    "id": "DEc_fCzBiyBp"
   },
   "outputs": [],
   "source": [
    "loan_data['LoanAmount'].fillna(loan_data['LoanAmount'].median(), inplace=True)"
   ]
  },
  {
   "cell_type": "markdown",
   "metadata": {
    "id": "jXPgX_9Ci8pJ"
   },
   "source": [
    "Now lets check whether all the missing values are filled in the dataset."
   ]
  },
  {
   "cell_type": "code",
   "execution_count": null,
   "metadata": {
    "colab": {
     "base_uri": "https://localhost:8080/"
    },
    "id": "OhAu8Iywi5O8",
    "outputId": "798c49d6-931f-4d7a-99f6-e083b0ef2d86"
   },
   "outputs": [],
   "source": [
    "loan_data.isnull().sum()"
   ]
  },
  {
   "cell_type": "markdown",
   "metadata": {
    "id": "lPDNPx33jGcO"
   },
   "source": [
    "As we can see that all the missing values have been filled in the test dataset. Let’s fill all the missing values in the test dataset too with the same approach."
   ]
  },
  {
   "cell_type": "code",
   "execution_count": null,
   "metadata": {
    "id": "0Nx5juL6jA9z"
   },
   "outputs": [],
   "source": [
    "test_data['Gender'].fillna(loan_data['Gender'].mode()[0], inplace=True)\r\n",
    "test_data['Married'].fillna(loan_data['Married'].mode()[0], inplace=True)\r\n",
    "test_data['Dependents'].fillna(loan_data['Dependents'].mode()[0], inplace=True)\r\n",
    "test_data['Self_Employed'].fillna(loan_data['Self_Employed'].mode()[0], inplace=True)\r\n",
    "test_data['Credit_History'].fillna(loan_data['Credit_History'].mode()[0], inplace=True)\r\n",
    "test_data['Loan_Amount_Term'].fillna(loan_data['Loan_Amount_Term'].mode()[0], inplace=True)\r\n",
    "test_data['LoanAmount'].fillna(loan_data['LoanAmount'].median(), inplace=True)"
   ]
  },
  {
   "cell_type": "markdown",
   "metadata": {
    "id": "j0qTkl95jl4E"
   },
   "source": [
    "## Outlier Treatement"
   ]
  },
  {
   "cell_type": "markdown",
   "metadata": {
    "id": "RJxcv5mMjov9"
   },
   "source": [
    "As we saw earlier in univariate analysis, LoanAmount contains outliers so we have to treat them as the presence of outliers affects the distribution of the data. \r\n",
    "\r\n",
    "Let's examine what can happen to a data set with __outliers__. \r\n",
    "\r\n",
    "For the sample data set:\r\n",
    "\r\n",
    "__1,1,2,2,2,2,3,3,3,4,4__\r\n",
    "\r\n",
    "We find the following: mean, median, mode, and standard deviation\r\n",
    "\r\n",
    "* Mean = 2.58\r\n",
    "* Median = 2.5\r\n",
    "* Mode=2\r\n",
    "* Standard Deviation = 1.08\r\n",
    "\r\n",
    "If we add an outlier to the data set:\r\n",
    "\r\n",
    "__1,1,2,2,2,2,3,3,3,4,4,400__\r\n",
    "\r\n",
    "The new values of our statistics are:\r\n",
    "\r\n",
    "* Mean = 35.38\r\n",
    "* Median = 2.5\r\n",
    "* Mode=2\r\n",
    "* Standard Deviation = 114.74\r\n",
    "\r\n",
    "It can be seen that having outliers often has a significant effect on the mean and standard deviation and hence affecting the distribution. \r\n",
    "\r\n",
    "We must take steps to remove outliers from our data sets.\r\n",
    "\r\n",
    "\r\n",
    "Due to these outliers bulk of the data in the loan amount is at the left and the right tail is longer. \r\n",
    "\r\n",
    "This is called __right skewness__. One way to remove the __skewness__ is by doing the __log transformation.__ \r\n",
    "\r\n",
    "As we take the __log transformation__, it does not affect the smaller values much, but reduces the larger values. So, we get a __distribution__ similar to __normal distribution__.\r\n",
    "\r\n",
    "\r\n",
    "Let’s visualize the effect of __log transformation__. We will do the similar changes to the test file simultaneously."
   ]
  },
  {
   "cell_type": "code",
   "execution_count": null,
   "metadata": {
    "colab": {
     "base_uri": "https://localhost:8080/",
     "height": 265
    },
    "id": "e8FpMuJFjTk-",
    "outputId": "145569ba-5e35-409d-80fb-5c800978c330"
   },
   "outputs": [],
   "source": [
    "loan_data['LoanAmount_log']=np.log(loan_data['LoanAmount'])\r\n",
    "loan_data['LoanAmount_log'].hist(bins=20)\r\n",
    "test_data['LoanAmount_log']=np.log(test_data['LoanAmount'])"
   ]
  },
  {
   "cell_type": "markdown",
   "metadata": {
    "id": "lXR1ELm1kcwR"
   },
   "source": [
    "Now the distribution looks much closer to normal and effect of extreme values has been significantly subsided. \r\n",
    "\r\n",
    "Let's build a logistic regression model and make predictions for the test dataset.\r\n"
   ]
  },
  {
   "cell_type": "markdown",
   "metadata": {
    "id": "7Dv8igINk2ru"
   },
   "source": [
    "# Model Building : \r\n",
    "\r\n",
    "## __Part I__\r\n",
    "\r\n",
    "Let us make our first model to predict the target variable. We will start with Logistic Regression which is used for predicting binary outcome.\r\n",
    "\r\n",
    "* Logistic Regression is a classification algorithm. It is used to predict a binary outcome (1 / 0, Yes / No, True / False) given a set of independent variables.\r\n",
    "* Logistic regression is an estimation of Logit function. Logit function is simply a log of odds in favor of the event.\r\n",
    "This function creates a s-shaped curve with the probability estimate, which is very similar to the required step wise function\r\n",
    "\r\n",
    "To learn further on logistic regression, refer this article: https://www.analyticsvidhya.com/blog/2015/10/basics-logistic-regression/\r\n",
    "Lets drop the Loan_ID variable as it do not have any effect on the loan status. We will do the same changes to the test dataset which we did for the training dataset."
   ]
  },
  {
   "cell_type": "code",
   "execution_count": null,
   "metadata": {
    "id": "lrQrnGWAkZyH"
   },
   "outputs": [],
   "source": [
    "loan_data=loan_data.drop('Loan_ID',axis=1)\r\n",
    "test_data=test_data.drop('Loan_ID',axis=1)"
   ]
  },
  {
   "cell_type": "markdown",
   "metadata": {
    "id": "S3EpJizqlMwm"
   },
   "source": [
    "We will use scikit-learn (sklearn) for making different models which is an open source library for Python. It is one of the most ef cient tool which contains many inbuilt functions that can be used for modeling in Python.\r\n",
    "\r\n",
    "To learn further about sklearn, refer here: http://scikit-learn.org/stable/tutorial/index.html\r\n",
    "\r\n",
    "Sklearn requires the target variable in a separate dataset. So, we will drop our target variable from the train dataset and save it in another dataset."
   ]
  },
  {
   "cell_type": "code",
   "execution_count": null,
   "metadata": {
    "id": "7QjdWr59lKUS"
   },
   "outputs": [],
   "source": [
    "X = loan_data.drop('Loan_Status',axis=1)\r\n",
    "y = loan_data.Loan_Status"
   ]
  },
  {
   "cell_type": "markdown",
   "metadata": {
    "id": "kFRzKB0zllM2"
   },
   "source": [
    "Now we will make dummy variables for the categorical variables. Dummy variable turns categorical variables into a series of 0 and 1, making them lot easier to quantify and compare. Let us understand the process of dummies first:\r\n",
    "\r\n",
    "* Consider the `Gender` variable. It has two classes, `Male and Female.`\r\n",
    "* As logistic regression takes only the numerical values as input, we have to change male and female into numerical value.\r\n",
    "* Once we apply dummies to this variable, it will convert the “Gender” variable into two variables(Gender_Male and Gender_Female), one for each class, i.e. Male and Female.\r\n",
    "* Gender_Male will have a value of 0 if the gender is Female and a value of 1 if the gender is Male."
   ]
  },
  {
   "cell_type": "code",
   "execution_count": null,
   "metadata": {
    "id": "j2t71xLVmEim"
   },
   "outputs": [],
   "source": [
    "train = loan_data.copy()\r\n",
    "test = test_data.copy()"
   ]
  },
  {
   "cell_type": "code",
   "execution_count": null,
   "metadata": {
    "id": "bGgVNwc8lh0k"
   },
   "outputs": [],
   "source": [
    "X = pd.get_dummies(X)\r\n",
    "train=pd.get_dummies(train)\r\n",
    "test=pd.get_dummies(test)"
   ]
  },
  {
   "cell_type": "markdown",
   "metadata": {
    "id": "OVk6CQCrmISR"
   },
   "source": [
    "Now we will train the model on training dataset and make predictions for the test dataset. But can we validate these predictions? One way of doing this is we can divide our train dataset into two parts: train and validation. We can train the model on this train part and using that make predictions for the validation part. In this way we can validate our predictions as we have the true predictions for the validation part (which we do not have for the test dataset).\r\n",
    "\r\n",
    "We will use the train_test_split function from sklearn to divide our train dataset. So, first let us import train_test_split."
   ]
  },
  {
   "cell_type": "code",
   "execution_count": null,
   "metadata": {
    "id": "pWRH9TuDmFys"
   },
   "outputs": [],
   "source": [
    "from sklearn.model_selection import train_test_split\r\n",
    "x_train, x_valid, y_train, y_valid = train_test_split(X,y, test_size=0.3)"
   ]
  },
  {
   "cell_type": "markdown",
   "metadata": {
    "id": "1743UgiCmo4B"
   },
   "source": [
    "The dataset has been divided into training and validation part. Let us import LogisticRegression and accuracy_score from sklearn and fit the logistic regression model."
   ]
  },
  {
   "cell_type": "code",
   "execution_count": null,
   "metadata": {
    "colab": {
     "base_uri": "https://localhost:8080/"
    },
    "id": "dVUlzchwmmaQ",
    "outputId": "c20f83da-9f2c-4c39-a0cd-9d9b18c4a8fb"
   },
   "outputs": [],
   "source": [
    "from sklearn.linear_model import LogisticRegression\r\n",
    "from sklearn.metrics import accuracy_score, f1_score\r\n",
    "model = LogisticRegression()\r\n",
    "model.fit(x_train, y_train)\r\n",
    "# LogisticRegression(C=1.0, class_weight=None, dual=False, fit_intercept=True, intercept_scaling=1, max_iter=100, multi_class='ovr', n_jobs=1, penalty='12',random_state=1, solver='liblinear', tol=0.0001, verbose=0, warm_start=False)"
   ]
  },
  {
   "cell_type": "markdown",
   "metadata": {
    "id": "yb76er5rm373"
   },
   "source": [
    "Let’s predict the Loan_Status for validation set and calculate its accuracy."
   ]
  },
  {
   "cell_type": "code",
   "execution_count": null,
   "metadata": {
    "colab": {
     "base_uri": "https://localhost:8080/"
    },
    "id": "SnWJ9ZJgmx4a",
    "outputId": "9b1b2256-fba8-4cb8-e495-2c2a94b54bca"
   },
   "outputs": [],
   "source": [
    "pred_cv = model.predict(x_valid)\r\n",
    "print('Model Accuracy = ', accuracy_score(y_valid,pred_cv))\r\n",
    "print('Model F1-Score = ', f1_score(y_valid,pred_cv))"
   ]
  },
  {
   "cell_type": "markdown",
   "metadata": {
    "id": "eanyJrbHniCW"
   },
   "source": [
    "So our predictions are almost 80% accurate, i.e. we have identified 80% of the loan status correctly.\r\n",
    "\r\n",
    "Let’s make predictions for the test dataset."
   ]
  },
  {
   "cell_type": "code",
   "execution_count": null,
   "metadata": {
    "id": "8wb8LtVLm6hT"
   },
   "outputs": [],
   "source": [
    "pred_test = model.predict(test)"
   ]
  },
  {
   "cell_type": "markdown",
   "metadata": {
    "id": "iXdryvVnnp4f"
   },
   "source": [
    "## __Prediction Test data & Downloading it to check the solver__"
   ]
  },
  {
   "cell_type": "code",
   "execution_count": null,
   "metadata": {
    "colab": {
     "base_uri": "https://localhost:8080/",
     "height": 17
    },
    "id": "ZmHXGzUQnnbT",
    "outputId": "916ecd62-57c2-4362-a09a-e94a6f5f06ef"
   },
   "outputs": [],
   "source": [
    "# To create Dataframe of predicted value with particular respective index\r\n",
    "res = pd.DataFrame(pred_test) #preditcions are nothing but the final predictions of your model on input features of your new unseen test data\r\n",
    "res.index = test_data.index # its important for comparison. Here \"test_new\" is your new test dataset\r\n",
    "res.columns = [\"prediction\"]\r\n",
    "\r\n",
    "# To download the csv file locally\r\n",
    "from google.colab import files\r\n",
    "res.to_csv('datathon_loan_lr.csv', index=False)         \r\n",
    "files.download('datathon_loan_lr.csv')"
   ]
  },
  {
   "cell_type": "markdown",
   "metadata": {
    "id": "nE6QPSTvpAzh"
   },
   "source": [
    "Got a score : __#9\t`ayoubberd`\t85.39325842696628__"
   ]
  },
  {
   "cell_type": "markdown",
   "metadata": {
    "id": "Kfnh78Ado_HE"
   },
   "source": [
    "## Logistic Regression using stratified k-folds cross validation"
   ]
  },
  {
   "cell_type": "markdown",
   "metadata": {
    "id": "GumuVdLepRnT"
   },
   "source": [
    "To check how robust our model is to unseen data, we can use Validation. It is a technique which involves reserving a particular sample of a dataset on which you do not train the model. Later, you test your model on this sample before finalizing it. Some of the common methods for validation are listed below:\r\n",
    "\r\n",
    "* The validation set approach\r\n",
    "* k-fold cross validation\r\n",
    "* Leave one out cross validation (LOOCV)\r\n",
    "* Stratified k-fold cross validation\r\n",
    "\r\n",
    "\r\n",
    "If you wish to know more about validation techniques, then please refer this article: https://www.analyticsvidhya.com/blog/2018/05/improve-model-performance-cross-validation-in-python-r/\r\n",
    "\r\n",
    "In this section we will learn about stratified k-fold cross validation. Let us understand how it works:\r\n",
    "\r\n",
    "* Stratification is the process of rearranging the data so as to ensure that each fold is a good representative of the whole.\r\n",
    "* For example, in a binary classification problem where each class comprises of 50% of the data, it is best to arrange the data such that in every fold, each class comprises of about half the instances.\r\n",
    "* It is generally a better approach when dealing with both bias and variance.\r\n",
    "* A randomly selected fold might not adequately represent the minor class, particularly in cases where there is a huge class imbalance.\r\n",
    "\r\n",
    "\r\n",
    "Let’s import StratifiedKFold from sklearn and fit the model."
   ]
  },
  {
   "cell_type": "code",
   "execution_count": null,
   "metadata": {
    "id": "BY4feSybocP8"
   },
   "outputs": [],
   "source": [
    "from sklearn.model_selection import StratifiedKFold"
   ]
  },
  {
   "cell_type": "markdown",
   "metadata": {
    "id": "UbAmE8uLpkdo"
   },
   "source": [
    "Now let’s make a cross validation logistic model with stratified 5 folds and make predictions for test dataset"
   ]
  },
  {
   "cell_type": "code",
   "execution_count": null,
   "metadata": {
    "colab": {
     "base_uri": "https://localhost:8080/"
    },
    "id": "qXf4PE6LpiPX",
    "outputId": "0bf1878d-1b91-4a60-d9c9-04d1e489aaa0"
   },
   "outputs": [],
   "source": [
    "i=1\r\n",
    "mean = 0\r\n",
    "fmean = 0\r\n",
    "kf = StratifiedKFold(n_splits=5,random_state=1)\r\n",
    "for train_index,test_index in kf.split(X,y):\r\n",
    "    print ('\\n{} of kfold {} '.format(i,kf.n_splits))\r\n",
    "    xtr,xvl = X.loc[train_index],X.loc[test_index]\r\n",
    "    ytr,yvl = y[train_index],y[test_index]\r\n",
    "    model = LogisticRegression(random_state=1)\r\n",
    "    model.fit(xtr,ytr)\r\n",
    "    pred_test=model.predict(xvl)\r\n",
    "    score=accuracy_score(yvl,pred_test)\r\n",
    "    f1score = f1_score(yvl,pred_test)\r\n",
    "    mean += score\r\n",
    "    fmean += f1score\r\n",
    "    print('#######################')\r\n",
    "    print ('accuracy_score',score)\r\n",
    "    print('-------------------------')\r\n",
    "    print ('F1 Score ',f1score)\r\n",
    "    print('#######################')\r\n",
    "    i+=1\r\n",
    "    pred_test_f = model.predict(test)\r\n",
    "    pred = model.predict_proba(xvl)[:,1]\r\n",
    "\r\n",
    "print('----------- Final Mean Score---------------')    \r\n",
    "print('###########################################')\r\n",
    "print ('\\n Mean Validation Accuracy',mean/(i-1))\r\n",
    "print ('\\n Mean Validation F1 Score',fmean/(i-1))\r\n",
    "print('###########################################')\r\n",
    "print('-------------------------------------------')    \r\n"
   ]
  },
  {
   "cell_type": "markdown",
   "metadata": {
    "id": "wHrh6Ti3qpos"
   },
   "source": [
    "* The mean validation accuracy for this model turns out to be __0.7922__ . \r\n",
    "\r\n",
    "* The mean validation f1 score for this model turns out to be __0.8639__ . \r\n",
    "\r\n",
    "Let us visualize the roc curve."
   ]
  },
  {
   "cell_type": "code",
   "execution_count": null,
   "metadata": {
    "colab": {
     "base_uri": "https://localhost:8080/",
     "height": 497
    },
    "id": "0GgWt0PJqiRf",
    "outputId": "e9ea4ba2-fc8a-4f5c-ee3f-d82cd35cbab6"
   },
   "outputs": [],
   "source": [
    "from sklearn import metrics\r\n",
    "fpr, tpr, _ = metrics.roc_curve(yvl, pred)\r\n",
    "auc = metrics.roc_auc_score(yvl, pred)\r\n",
    "plt.figure(figsize=(12,8))\r\n",
    "plt.plot(fpr, tpr, label=\"validation, auc=\"+str(auc))\r\n",
    "plt.xlabel('False Positive Rate')\r\n",
    "plt.ylabel('True Positive Rate')\r\n",
    "plt.legend(loc=4)\r\n",
    "plt.show()"
   ]
  },
  {
   "cell_type": "markdown",
   "metadata": {
    "id": "AxIStrnZrEfr"
   },
   "source": [
    "* We got an `auc` value of __0.8176__"
   ]
  },
  {
   "cell_type": "code",
   "execution_count": null,
   "metadata": {
    "colab": {
     "base_uri": "https://localhost:8080/",
     "height": 17
    },
    "id": "T1fx6YX5q8YL",
    "outputId": "e56ee654-0f1a-4344-86f7-4f53994240ad"
   },
   "outputs": [],
   "source": [
    "# To create Dataframe of predicted value with particular respective index\r\n",
    "res = pd.DataFrame(pred_test_f) #preditcions are nothing but the final predictions of your model on input features of your new unseen test data\r\n",
    "res.index = test_data.index # its important for comparison. Here \"test_new\" is your new test dataset\r\n",
    "res.columns = [\"prediction\"]\r\n",
    "\r\n",
    "# To download the csv file locally\r\n",
    "from google.colab import files\r\n",
    "res.to_csv('datathon_loan_lr_crosval.csv', index=False)         \r\n",
    "files.download('datathon_loan_lr_crosval.csv')"
   ]
  },
  {
   "cell_type": "markdown",
   "metadata": {
    "id": "zmFCdRFutXVX"
   },
   "source": [
    "Got a score : __\t`ayoubberd`\t84.91620111731845__"
   ]
  },
  {
   "cell_type": "markdown",
   "metadata": {
    "id": "qlHhGkSytRng"
   },
   "source": [
    "## Feature Engineering"
   ]
  },
  {
   "cell_type": "markdown",
   "metadata": {
    "id": "p24TZFZQtefx"
   },
   "source": [
    "Based on the domain knowledge, we can come up with new features that might affect the target variable. We will create the following three new features:\r\n",
    "\r\n",
    "* __Total Income__ - As discussed during bivariate analysis we will combine the Applicant Income and Coapplicant Income. If the total income is high, chances of loan approval might also be high.\r\n",
    "* __EMI__ - EMI is the monthly amount to be paid by the applicant to repay the loan. Idea behind making this variable is that people who have high EMI’s might find it difficult to pay back the loan. We can calculate the EMI by taking the ratio of loan amount with respect to loan amount term.\r\n",
    "* __Balance Income__ - This is the income left after the EMI has been paid. Idea behind creating this variable is that if this value is high, the chances are high that a person will repay the loan and hence increasing the chances of loan approval."
   ]
  },
  {
   "cell_type": "code",
   "execution_count": null,
   "metadata": {
    "id": "w8p-pr7arn1k"
   },
   "outputs": [],
   "source": [
    "train['Total_Income']=train['ApplicantIncome']+train['CoapplicantIncome']\r\n",
    "test['Total_Income']=test['ApplicantIncome']+test['CoapplicantIncome']"
   ]
  },
  {
   "cell_type": "markdown",
   "metadata": {
    "id": "M3Xo2Z84t1V8"
   },
   "source": [
    "Let’s check the distribution of Total Income."
   ]
  },
  {
   "cell_type": "code",
   "execution_count": null,
   "metadata": {
    "colab": {
     "base_uri": "https://localhost:8080/",
     "height": 297
    },
    "id": "fvyaGBeytouD",
    "outputId": "cf7db249-926c-471f-d9c3-7f75d16d4dd5"
   },
   "outputs": [],
   "source": [
    "sns.distplot(train['Total_Income'])"
   ]
  },
  {
   "cell_type": "markdown",
   "metadata": {
    "id": "pZabr302uIpZ"
   },
   "source": [
    "We can see it is shifted towards left, i.e., the distribution is right skewed. So, let’s take the log transformation to make the distribution normal."
   ]
  },
  {
   "cell_type": "code",
   "execution_count": null,
   "metadata": {
    "colab": {
     "base_uri": "https://localhost:8080/",
     "height": 280
    },
    "id": "y7Of9HD5t6Nf",
    "outputId": "1589a490-defa-4152-a157-26445a78c041"
   },
   "outputs": [],
   "source": [
    "train['Total_Income_log'] = np.log(train['Total_Income'])\r\n",
    "sns.distplot(train['Total_Income_log'])\r\n",
    "test['Total_Income_log'] = np.log(test['Total_Income'])"
   ]
  },
  {
   "cell_type": "markdown",
   "metadata": {
    "id": "pc9G3_VeuQjg"
   },
   "source": [
    "Now the distribution looks much closer to normal and the effect of extreme values has been significantly subsided. Let's create the EMI feature now."
   ]
  },
  {
   "cell_type": "code",
   "execution_count": null,
   "metadata": {
    "id": "cFMW9fg-uN8e"
   },
   "outputs": [],
   "source": [
    "train['EMI']=train['LoanAmount']/train['Loan_Amount_Term']\r\n",
    "test['EMI']=test['LoanAmount']/test['Loan_Amount_Term']"
   ]
  },
  {
   "cell_type": "markdown",
   "metadata": {
    "id": "RVuQBgkbuUY6"
   },
   "source": [
    "Let’s check the distribution of EMI variable.\r\n"
   ]
  },
  {
   "cell_type": "code",
   "execution_count": null,
   "metadata": {
    "colab": {
     "base_uri": "https://localhost:8080/",
     "height": 296
    },
    "id": "SWUXmVlBuSNf",
    "outputId": "0ec8a6da-5feb-4d18-9eea-7c4b3f4d04fc"
   },
   "outputs": [],
   "source": [
    "sns.distplot(train['EMI'])"
   ]
  },
  {
   "cell_type": "markdown",
   "metadata": {
    "id": "5CaX8WeJuZA7"
   },
   "source": [
    "Let us create Balance Income feature now and check its distribution."
   ]
  },
  {
   "cell_type": "code",
   "execution_count": null,
   "metadata": {
    "colab": {
     "base_uri": "https://localhost:8080/",
     "height": 296
    },
    "id": "zW3TPfZMuWIj",
    "outputId": "0daf4cfb-6e60-465c-bb6d-f9f716167110"
   },
   "outputs": [],
   "source": [
    "train['Balance Income'] = train['Total_Income']-(train['EMI']*1000)\r\n",
    "test['Balance Income'] = test['Total_Income']-(test['EMI']*1000)\r\n",
    "sns.distplot(train['Balance Income'])"
   ]
  },
  {
   "cell_type": "markdown",
   "metadata": {
    "id": "3mTjdo-wueRo"
   },
   "source": [
    "Let us now drop the variables which we used to create these new features.\r\n",
    "\r\n",
    " Reason for doing this is, the correlation between those old features and these new features will be very high and logistic regression assumes that the variables are not highly correlated. \r\n",
    "\r\n",
    "We also wants to remove the noise from the dataset, so removing correlated features will help in reducing the noise too."
   ]
  },
  {
   "cell_type": "code",
   "execution_count": null,
   "metadata": {
    "id": "703IC3RBua90"
   },
   "outputs": [],
   "source": [
    "train=train.drop(['ApplicantIncome', 'CoapplicantIncome', 'LoanAmount', 'Loan_Amount_Term'], axis=1)\r\n",
    "test=test.drop(['ApplicantIncome', 'CoapplicantIncome', 'LoanAmount', 'Loan_Amount_Term'], axis=1)"
   ]
  },
  {
   "cell_type": "markdown",
   "metadata": {
    "id": "YKFCHkO4viOt"
   },
   "source": [
    "## __Part II__\r\n",
    "\r\n",
    "After creating new features, we can continue the model building process. \r\n",
    "\r\n",
    "So we will start with logistic regression model and then move over to more complex models like RandomForest and XGBoost. \r\n",
    "\r\n",
    "We will build the following models in this section.\r\n",
    "\r\n",
    "* Logistic Regression\r\n",
    "* Decision Tree\r\n",
    "* Random Forest\r\n",
    "* XGBoost\r\n",
    "\r\n",
    "Let’s prepare the data for feeding into the models."
   ]
  },
  {
   "cell_type": "code",
   "execution_count": null,
   "metadata": {
    "id": "hk2eYK7Iu5HW"
   },
   "outputs": [],
   "source": [
    "X = train.drop('Loan_Status', axis= 1)\r\n",
    "y = train.Loan_Status"
   ]
  },
  {
   "cell_type": "markdown",
   "metadata": {
    "id": "sfUDsD-Dv1j1"
   },
   "source": [
    "### __Logistic Regression__"
   ]
  },
  {
   "cell_type": "code",
   "execution_count": null,
   "metadata": {
    "colab": {
     "base_uri": "https://localhost:8080/"
    },
    "id": "t7xHJ6Zcvw0C",
    "outputId": "98469335-c91f-4453-8710-010db10934ed"
   },
   "outputs": [],
   "source": [
    "i=1\r\n",
    "mean = 0\r\n",
    "fmean = 0\r\n",
    "print('----------- After Features Engineering---------------')    \r\n",
    "kf = StratifiedKFold(n_splits=5,random_state=1)\r\n",
    "for train_index,test_index in kf.split(X,y):\r\n",
    "    print ('\\n{} of kfold {} '.format(i,kf.n_splits))\r\n",
    "    xtr,xvl = X.loc[train_index],X.loc[test_index]\r\n",
    "    ytr,yvl = y[train_index],y[test_index]\r\n",
    "    model = LogisticRegression(random_state=1)\r\n",
    "    model.fit(xtr,ytr)\r\n",
    "    pred_test=model.predict(xvl)\r\n",
    "    score=accuracy_score(yvl,pred_test)\r\n",
    "    f1score = f1_score(yvl,pred_test)\r\n",
    "    mean += score\r\n",
    "    fmean += f1score\r\n",
    "    print('#######################')\r\n",
    "    print ('accuracy_score',score)\r\n",
    "    print('-------------------------')\r\n",
    "    print ('F1 Score ',f1score)\r\n",
    "    print('#######################')\r\n",
    "    i+=1\r\n",
    "    pred_test_fe = model.predict(test)\r\n",
    "    pred = model.predict_proba(xvl)[:,1]\r\n",
    "\r\n",
    "\r\n",
    "print('----------- Final Mean Score---------------')    \r\n",
    "print('###########################################')\r\n",
    "print ('\\n Mean Validation Accuracy',mean/(i-1))\r\n",
    "print ('\\n Mean Validation F1 Score',fmean/(i-1))\r\n",
    "print('###########################################')\r\n",
    "print('-------------------------------------------')    \r\n"
   ]
  },
  {
   "cell_type": "code",
   "execution_count": null,
   "metadata": {
    "colab": {
     "base_uri": "https://localhost:8080/",
     "height": 497
    },
    "id": "rD0PgpqKw5ID",
    "outputId": "06e7d89e-f82a-47ab-8d1f-ade01ed50d48"
   },
   "outputs": [],
   "source": [
    "from sklearn import metrics\r\n",
    "fpr, tpr, _ = metrics.roc_curve(yvl, pred)\r\n",
    "auc = metrics.roc_auc_score(yvl, pred)\r\n",
    "plt.figure(figsize=(12,8))\r\n",
    "plt.plot(fpr, tpr, label=\"validation, auc=\"+str(auc))\r\n",
    "plt.xlabel('False Positive Rate')\r\n",
    "plt.ylabel('True Positive Rate')\r\n",
    "plt.legend(loc=4)\r\n",
    "plt.show()"
   ]
  },
  {
   "cell_type": "code",
   "execution_count": null,
   "metadata": {
    "colab": {
     "base_uri": "https://localhost:8080/",
     "height": 17
    },
    "id": "Jl584oxbwFYs",
    "outputId": "c5a59c00-aa01-490a-aa9b-50d73ce8f17c"
   },
   "outputs": [],
   "source": [
    "# To create Dataframe of predicted value with particular respective index\r\n",
    "res = pd.DataFrame(pred_test_fe) #preditcions are nothing but the final predictions of your model on input features of your new unseen test data\r\n",
    "res.index = test_data.index # its important for comparison. Here \"test_new\" is your new test dataset\r\n",
    "res.columns = [\"prediction\"]\r\n",
    "\r\n",
    "# To download the csv file locally\r\n",
    "from google.colab import files\r\n",
    "res.to_csv('datathon_loan_lr_fe.csv', index=False)         \r\n",
    "files.download('datathon_loan_lr_fe.csv')"
   ]
  },
  {
   "cell_type": "markdown",
   "metadata": {
    "id": "wYU8kbNcy6DP"
   },
   "source": [
    "Solver Got Score __#5\tayoubberd\t86.1878453038674__   \r\n",
    "\r\n",
    "Day : __23/12/2020 at 19:03__"
   ]
  },
  {
   "cell_type": "markdown",
   "metadata": {
    "id": "XiDJG-CyxbCX"
   },
   "source": [
    "### __Decision Tree__"
   ]
  },
  {
   "cell_type": "markdown",
   "metadata": {
    "id": "yuIQMWbqxmZY"
   },
   "source": [
    "Decision tree is a type of supervised learning algorithm(having a pre-defined target variable) that is mostly used in classification problems. In this technique, we split the population or sample into two or more homogeneous sets(or sub-populations) based on most significant splitter / differentiator in input variables.\r\n",
    "\r\n",
    "Decision trees use multiple algorithms to decide to split a node in two or more sub-nodes. The creation of sub-nodes increases the homogeneity of resultant sub-nodes. In other words, we can say that purity of the node increases with respect to the target variable.\r\n",
    "\r\n",
    "For detailed explanation visit https://www.analyticsvidhya.com/blog/2016/04/complete-tutorial-tree-based-modeling-scratch-in-python/#six\r\n",
    "\r\n",
    "Let’s fit the decision tree model with 5 folds of cross validation."
   ]
  },
  {
   "cell_type": "code",
   "execution_count": null,
   "metadata": {
    "colab": {
     "base_uri": "https://localhost:8080/"
    },
    "id": "ExGSOt4xxEic",
    "outputId": "b418ba16-edb7-42de-d6fe-4c2f3dded457"
   },
   "outputs": [],
   "source": [
    "from sklearn.tree import  DecisionTreeClassifier\r\n",
    "i=1\r\n",
    "mean = 0\r\n",
    "fmean = 0\r\n",
    "print('----------- After Features Engineering---------------')    \r\n",
    "kf = StratifiedKFold(n_splits=5,random_state=1)\r\n",
    "for train_index,test_index in kf.split(X,y):\r\n",
    "    print ('\\n{} of kfold {} '.format(i,kf.n_splits))\r\n",
    "    xtr,xvl = X.loc[train_index],X.loc[test_index]\r\n",
    "    ytr,yvl = y[train_index],y[test_index]\r\n",
    "    model_tree = DecisionTreeClassifier(random_state=1)\r\n",
    "    model_tree.fit(xtr,ytr)\r\n",
    "    pred_test=model_tree.predict(xvl)\r\n",
    "    score=accuracy_score(yvl,pred_test)\r\n",
    "    f1score = f1_score(yvl,pred_test)\r\n",
    "    mean += score\r\n",
    "    fmean += f1score\r\n",
    "    print('#######################')\r\n",
    "    print ('accuracy_score',score)\r\n",
    "    print('-------------------------')\r\n",
    "    print ('F1 Score ',f1score)\r\n",
    "    print('#######################')\r\n",
    "    i+=1\r\n",
    "    pred_test_tree = model_tree.predict(test)\r\n",
    "    pred = model_tree.predict_proba(xvl)[:,1]\r\n",
    "\r\n",
    "\r\n",
    "print('----------- Final Mean Score---------------')    \r\n",
    "print('###########################################')\r\n",
    "print ('\\n Mean Validation Accuracy',mean/(i-1))\r\n",
    "print ('\\n Mean Validation F1 Score',fmean/(i-1))\r\n",
    "print('###########################################')\r\n",
    "print('-------------------------------------------')    "
   ]
  },
  {
   "cell_type": "code",
   "execution_count": null,
   "metadata": {
    "colab": {
     "base_uri": "https://localhost:8080/",
     "height": 17
    },
    "id": "CWJGDNKWyEti",
    "outputId": "6c7266fe-d278-42f6-ff53-6b383b602760"
   },
   "outputs": [],
   "source": [
    "# To create Dataframe of predicted value with particular respective index\r\n",
    "res = pd.DataFrame(pred_test_tree) #preditcions are nothing but the final predictions of your model on input features of your new unseen test data\r\n",
    "res.index = test_data.index # its important for comparison. Here \"test_new\" is your new test dataset\r\n",
    "res.columns = [\"prediction\"]\r\n",
    "\r\n",
    "# To download the csv file locally\r\n",
    "from google.colab import files\r\n",
    "res.to_csv('datathon_loan_tree_fe.csv', index=False)         \r\n",
    "files.download('datathon_loan_tree_fe.csv')"
   ]
  },
  {
   "cell_type": "code",
   "execution_count": null,
   "metadata": {
    "id": "xYKFkn_-yN4Y"
   },
   "outputs": [],
   "source": []
  }
 ],
 "metadata": {
  "colab": {
   "collapsed_sections": [],
   "name": "ML_AdvancedBootCamp_Assignment 3: Advanced: Loan or No Loan?.ipynb",
   "provenance": []
  },
  "kernelspec": {
   "display_name": "Python 3 (ipykernel)",
   "language": "python",
   "name": "python3"
  },
  "language_info": {
   "codemirror_mode": {
    "name": "ipython",
    "version": 3
   },
   "file_extension": ".py",
   "mimetype": "text/x-python",
   "name": "python",
   "nbconvert_exporter": "python",
   "pygments_lexer": "ipython3",
   "version": "3.11.3"
  }
 },
 "nbformat": 4,
 "nbformat_minor": 4
}
